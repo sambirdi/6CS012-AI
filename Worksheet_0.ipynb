{
  "nbformat": 4,
  "nbformat_minor": 0,
  "metadata": {
    "colab": {
      "provenance": []
    },
    "kernelspec": {
      "name": "python3",
      "display_name": "Python 3"
    },
    "language_info": {
      "name": "python"
    }
  },
  "cells": [
    {
      "cell_type": "markdown",
      "source": [
        "Exercise on Functions:"
      ],
      "metadata": {
        "id": "J8R2WcY6PvC8"
      }
    },
    {
      "cell_type": "markdown",
      "source": [
        "Task - 1:\n",
        "Create a Python program that converts between different units of measurement.\n",
        "• The program should:\n",
        "1. Prompt the user to choose the type of conversion (e.g., length, weight, volume).\n",
        "2. Ask the user to input the value to be converted.\n",
        "3. Perform the conversion and display the result.\n",
        "4. Handle potential errors, such as invalid input or unsupported conversion types."
      ],
      "metadata": {
        "id": "lPEQBM1pPzUn"
      }
    },
    {
      "cell_type": "code",
      "source": [
        "# Simple Unit Converter\n",
        "\n",
        "# Function to convert length\n",
        "def convert_length(value, conversion_type):\n",
        "    if conversion_type == 'm_to_ft':\n",
        "        return value * 3.28084\n",
        "    elif conversion_type == 'ft_to_m':\n",
        "        return value / 3.28084\n",
        "    else:\n",
        "        print('Unsupported length conversion type.')\n",
        "        return None\n",
        "\n",
        "# Function to convert weight\n",
        "def convert_weight(value, conversion_type):\n",
        "    if conversion_type == 'kg_to_lbs':\n",
        "        return value * 2.20462\n",
        "    elif conversion_type == 'lbs_to_kg':\n",
        "        return value / 2.20462\n",
        "    else:\n",
        "        print('Unsupported weight conversion type.')\n",
        "        return None\n",
        "\n",
        "# Function to convert volume\n",
        "def convert_volume(value, conversion_type):\n",
        "    if conversion_type == 'l_to_gal':\n",
        "        return value * 0.264172\n",
        "    elif conversion_type == 'gal_to_l':\n",
        "        return value / 0.264172\n",
        "    else:\n",
        "        print('Unsupported volume conversion type.')\n",
        "        return None\n",
        "\n",
        "# Main program\n",
        "print('Unit Converter')\n",
        "print('Choose conversion type:')\n",
        "print('1. Length (meters to feet or feet to meters)')\n",
        "print('2. Weight (kilograms to pounds or pounds to kilograms)')\n",
        "print('3. Volume (liters to gallons or gallons to liters)')\n",
        "\n",
        "choice = input('Enter choice (1/2/3): ')\n",
        "if choice not in ['1', '2', '3']:\n",
        "    print('Invalid choice!')\n",
        "else:\n",
        "    try:\n",
        "        value = float(input('Enter the value to convert: '))\n",
        "        if choice == '1':\n",
        "            conv_type = input(\"Enter conversion type ('m_to_ft' or 'ft_to_m'): \")\n",
        "            result = convert_length(value, conv_type)\n",
        "        elif choice == '2':\n",
        "            conv_type = input(\"Enter conversion type ('kg_to_lbs' or 'lbs_to_kg'): \")\n",
        "            result = convert_weight(value, conv_type)\n",
        "        elif choice == '3':\n",
        "            conv_type = input(\"Enter conversion type ('l_to_gal' or 'gal_to_l'): \")\n",
        "            result = convert_volume(value, conv_type)\n",
        "\n",
        "        if result is not None:\n",
        "            print('Converted value:', result)\n",
        "    except ValueError:\n",
        "        print('Please enter a valid number!')"
      ],
      "metadata": {
        "colab": {
          "base_uri": "https://localhost:8080/"
        },
        "id": "SWSc5ANDP_JK",
        "outputId": "66400219-eb9e-4925-89a3-8b4effd26f00"
      },
      "execution_count": 1,
      "outputs": [
        {
          "output_type": "stream",
          "name": "stdout",
          "text": [
            "Unit Converter\n",
            "Choose conversion type:\n",
            "1. Length (meters to feet or feet to meters)\n",
            "2. Weight (kilograms to pounds or pounds to kilograms)\n",
            "3. Volume (liters to gallons or gallons to liters)\n",
            "Enter choice (1/2/3): 1\n",
            "Enter the value to convert: 12\n",
            "Enter conversion type ('m_to_ft' or 'ft_to_m'): m_to_ft\n",
            "Converted value: 39.37008\n"
          ]
        }
      ]
    },
    {
      "cell_type": "markdown",
      "source": [
        "Task - 2:\n",
        "Create a Python program that performs various mathematical operations on a list of numbers.\n",
        "• The Program should:\n",
        "1. Prompt the user to choose an operation (e.g., find the sum, average, maximum, or minimum\n",
        "of the numbers).\n",
        "2. Ask the user to input a list of numbers (separated by spaces).\n",
        "3. Perform the selected operation and display the result.\n",
        "4. Handle potential errors, such as invalid input or empty lists."
      ],
      "metadata": {
        "id": "lkIPipaZQrI-"
      }
    },
    {
      "cell_type": "code",
      "source": [
        "# Simple Math Operations on a List of Numbers\n",
        "\n",
        "# Function to calculate the sum of numbers\n",
        "def calculate_sum(numbers):\n",
        "    \"\"\"Returns the sum of a list of numbers.\"\"\"\n",
        "    return sum(numbers)\n",
        "\n",
        "# Function to calculate the average of numbers\n",
        "def calculate_average(numbers):\n",
        "    \"\"\"Returns the average of a list of numbers.\"\"\"\n",
        "    if len(numbers) == 0:\n",
        "        print('Cannot calculate average of an empty list.')\n",
        "        return None\n",
        "    return sum(numbers) / len(numbers)\n",
        "\n",
        "# Function to find the maximum value\n",
        "def find_maximum(numbers):\n",
        "    \"\"\"Returns the maximum value from a list of numbers.\"\"\"\n",
        "    return max(numbers)\n",
        "\n",
        "# Function to find the minimum value\n",
        "def find_minimum(numbers):\n",
        "    \"\"\"Returns the minimum value from a list of numbers.\"\"\"\n",
        "    return min(numbers)\n",
        "\n",
        "# Main program\n",
        "print('Math Operations on a List of Numbers')\n",
        "print('Choose an operation:')\n",
        "print('1. Sum of numbers')\n",
        "print('2. Average of numbers')\n",
        "print('3. Maximum of numbers')\n",
        "print('4. Minimum of numbers')\n",
        "\n",
        "choice = input('Enter choice (1/2/3/4): ')\n",
        "if choice not in ['1', '2', '3', '4']:\n",
        "    print('Invalid choice!')\n",
        "else:\n",
        "    try:\n",
        "        numbers = list(map(float, input('Enter numbers separated by spaces: ').split()))\n",
        "        if len(numbers) == 0:\n",
        "            print('The list of numbers cannot be empty!')\n",
        "        else:\n",
        "            if choice == '1':\n",
        "                result = calculate_sum(numbers)\n",
        "            elif choice == '2':\n",
        "                result = calculate_average(numbers)\n",
        "            elif choice == '3':\n",
        "                result = find_maximum(numbers)\n",
        "            elif choice == '4':\n",
        "                result = find_minimum(numbers)\n",
        "\n",
        "            if result is not None:\n",
        "                print('Result:', result)\n",
        "    except ValueError:\n",
        "        print('Please enter valid numbers!')\n"
      ],
      "metadata": {
        "colab": {
          "base_uri": "https://localhost:8080/"
        },
        "id": "Z1N4bJdgQw1k",
        "outputId": "34063219-f815-44d4-88ac-dea25a086adb"
      },
      "execution_count": 2,
      "outputs": [
        {
          "output_type": "stream",
          "name": "stdout",
          "text": [
            "Math Operations on a List of Numbers\n",
            "Choose an operation:\n",
            "1. Sum of numbers\n",
            "2. Average of numbers\n",
            "3. Maximum of numbers\n",
            "4. Minimum of numbers\n",
            "Enter choice (1/2/3/4): 2\n",
            "Enter numbers separated by spaces: 12\n",
            "Result: 12.0\n"
          ]
        }
      ]
    },
    {
      "cell_type": "markdown",
      "source": [
        "4.2 Exercise on List Manipulation:\n",
        "1. Extract Every Other Element:\n",
        "Write a Python function that extracts every other element from a list, starting from the first element."
      ],
      "metadata": {
        "id": "TOrZGPLPU7Eg"
      }
    },
    {
      "cell_type": "code",
      "source": [
        "def extract_every_other(lst):\n",
        "    return lst[::2]\n",
        "\n",
        "# Example usage:\n",
        "input_list = [1, 2, 3, 4, 5, 6]\n",
        "output_list = extract_every_other(input_list)\n",
        "print(output_list)  # Output: [1, 3, 5]\n"
      ],
      "metadata": {
        "colab": {
          "base_uri": "https://localhost:8080/"
        },
        "id": "CfoZyANrU_QL",
        "outputId": "6a9150c6-8710-4c29-c4ef-4fb7a2031e4d"
      },
      "execution_count": 3,
      "outputs": [
        {
          "output_type": "stream",
          "name": "stdout",
          "text": [
            "[1, 3, 5]\n"
          ]
        }
      ]
    },
    {
      "cell_type": "markdown",
      "source": [
        "2 Write a Python function that returns a sublist from a given list, starting from a specified index and\n",
        "ending at another specified index."
      ],
      "metadata": {
        "id": "uMjQUVbGVCO_"
      }
    },
    {
      "cell_type": "code",
      "source": [
        "def get_sublist(lst, start, end):\n",
        "    return lst[start:end+1]\n",
        "\n",
        "# Example usage:\n",
        "input_list = [1, 2, 3, 4, 5, 6]\n",
        "start_index = 2\n",
        "end_index = 4\n",
        "output_list = get_sublist(input_list, start_index, end_index)\n",
        "print(output_list)  # Output: [3, 4, 5]\n"
      ],
      "metadata": {
        "colab": {
          "base_uri": "https://localhost:8080/"
        },
        "id": "5Nrlf6O2VMzw",
        "outputId": "7be1e2a0-4d71-4d3f-eeff-3329117de7f4"
      },
      "execution_count": 4,
      "outputs": [
        {
          "output_type": "stream",
          "name": "stdout",
          "text": [
            "[3, 4, 5]\n"
          ]
        }
      ]
    },
    {
      "cell_type": "markdown",
      "source": [
        "3 Reverse a List Using Slicing:\n",
        "Write a Python function that reverses a list using slicing."
      ],
      "metadata": {
        "id": "HaUQKG9qVSRk"
      }
    },
    {
      "cell_type": "code",
      "source": [
        "def reverse_list(lst):\n",
        "    return lst[::-1]\n",
        "\n",
        "# Example usage:\n",
        "input_list = [1, 2, 3, 4, 5]\n",
        "output_list = reverse_list(input_list)\n",
        "print(output_list)  # Output: [5, 4, 3, 2, 1]\n"
      ],
      "metadata": {
        "colab": {
          "base_uri": "https://localhost:8080/"
        },
        "id": "x80AMBuVVX6L",
        "outputId": "8536c1e6-b3b7-4946-ccd4-c19137714c58"
      },
      "execution_count": 5,
      "outputs": [
        {
          "output_type": "stream",
          "name": "stdout",
          "text": [
            "[5, 4, 3, 2, 1]\n"
          ]
        }
      ]
    },
    {
      "cell_type": "markdown",
      "source": [
        "4. Remove the First and Last Elements:\n",
        "Write a Python function that removes the first and last elements of a list and returns the resulting\n",
        "sublist."
      ],
      "metadata": {
        "id": "fmYBLFrWVat4"
      }
    },
    {
      "cell_type": "code",
      "source": [
        "def remove_first_last(lst):\n",
        "    return lst[1:-1]\n",
        "\n",
        "# Example usage:\n",
        "input_list = [1, 2, 3, 4, 5]\n",
        "output_list = remove_first_last(input_list)\n",
        "print(output_list)  # Output: [2, 3, 4]\n"
      ],
      "metadata": {
        "colab": {
          "base_uri": "https://localhost:8080/"
        },
        "id": "DSnEjhQwVdvd",
        "outputId": "b74c1f91-e2f3-4881-eb4a-fadab3d4cdbf"
      },
      "execution_count": 6,
      "outputs": [
        {
          "output_type": "stream",
          "name": "stdout",
          "text": [
            "[2, 3, 4]\n"
          ]
        }
      ]
    },
    {
      "cell_type": "markdown",
      "source": [
        "5. Get the First n Elements:\n",
        "Write a Python function that extracts the first n elements from a list."
      ],
      "metadata": {
        "id": "S9-fG_xVVgjK"
      }
    },
    {
      "cell_type": "code",
      "source": [
        "def get_first_n(lst, n):\n",
        "    return lst[:n]\n",
        "\n",
        "# Example usage:\n",
        "input_list = [1, 2, 3, 4, 5]\n",
        "n = 3\n",
        "output_list = get_first_n(input_list, n)\n",
        "print(output_list)  # Output: [1, 2, 3]\n"
      ],
      "metadata": {
        "colab": {
          "base_uri": "https://localhost:8080/"
        },
        "id": "DOUkQMLKVj-_",
        "outputId": "906aa25c-78eb-47e3-b0f7-b1c19335fd99"
      },
      "execution_count": 7,
      "outputs": [
        {
          "output_type": "stream",
          "name": "stdout",
          "text": [
            "[1, 2, 3]\n"
          ]
        }
      ]
    },
    {
      "cell_type": "markdown",
      "source": [
        "6. Extract Elements from the End:\n",
        "Write a Python function that extracts the last n elements of a list using slicing."
      ],
      "metadata": {
        "id": "j_1888TAVm-U"
      }
    },
    {
      "cell_type": "code",
      "source": [
        "def get_last_n(lst, n):\n",
        "    return lst[-n:]\n",
        "\n",
        "# Example usage:\n",
        "input_list = [1, 2, 3, 4, 5]\n",
        "n = 2\n",
        "output_list = get_last_n(input_list, n)\n",
        "print(output_list)  # Output: [4, 5]\n"
      ],
      "metadata": {
        "colab": {
          "base_uri": "https://localhost:8080/"
        },
        "id": "PPwLT44TVpjy",
        "outputId": "206b35c0-d696-4a17-b516-1b3c2925c617"
      },
      "execution_count": 8,
      "outputs": [
        {
          "output_type": "stream",
          "name": "stdout",
          "text": [
            "[4, 5]\n"
          ]
        }
      ]
    },
    {
      "cell_type": "markdown",
      "source": [
        "7. Extract Elements in Reverse Order:\n",
        "Write a Python function that extracts a list of elements in reverse order starting from the second-to-last\n",
        "element and skipping one element in between."
      ],
      "metadata": {
        "id": "g4sYt1vDVvyA"
      }
    },
    {
      "cell_type": "code",
      "source": [
        "def reverse_skip(lst):\n",
        "    return lst[-2::-2]\n",
        "\n",
        "# Example usage:\n",
        "input_list = [1, 2, 3, 4, 5, 6]\n",
        "output_list = reverse_skip(input_list)\n",
        "print(output_list)  # Output: [5, 3, 1]\n"
      ],
      "metadata": {
        "colab": {
          "base_uri": "https://localhost:8080/"
        },
        "id": "s_Qa8rkWVyRo",
        "outputId": "7b37ccce-ca02-42e1-b454-cc245a3cbf64"
      },
      "execution_count": 9,
      "outputs": [
        {
          "output_type": "stream",
          "name": "stdout",
          "text": [
            "[5, 3, 1]\n"
          ]
        }
      ]
    },
    {
      "cell_type": "markdown",
      "source": [
        "4.3 Exercise on Nested List:\n",
        "1. Flatten a Nested List:\n",
        "Write a Python function that takes a nested list and flattens it into a single list, where all the elements\n",
        "are in a single dimension."
      ],
      "metadata": {
        "id": "egnkn02UV04z"
      }
    },
    {
      "cell_type": "code",
      "source": [
        "def flatten(lst):\n",
        "    flattened_list = []\n",
        "    for item in lst:\n",
        "        if isinstance(item, list):\n",
        "            flattened_list.extend(flatten(item))  # Recursively flatten if the item is a list\n",
        "        else:\n",
        "            flattened_list.append(item)\n",
        "    return flattened_list\n",
        "\n",
        "# Example usage:\n",
        "nested_list = [[1, 2], [3, 4], [5]]\n",
        "print(flatten(nested_list))  # Output: [1, 2, 3, 4, 5]\n"
      ],
      "metadata": {
        "colab": {
          "base_uri": "https://localhost:8080/"
        },
        "id": "8bx_ablOV6v4",
        "outputId": "322d6834-0d03-47fe-ea05-05f47d823c38"
      },
      "execution_count": 10,
      "outputs": [
        {
          "output_type": "stream",
          "name": "stdout",
          "text": [
            "[1, 2, 3, 4, 5]\n"
          ]
        }
      ]
    },
    {
      "cell_type": "markdown",
      "source": [
        "2. Accessing Nested List Elements:\n",
        "Write a Python function that extracts a specific element from a nested list given its indices."
      ],
      "metadata": {
        "id": "AuRpXy_GV_9g"
      }
    },
    {
      "cell_type": "code",
      "source": [
        "def access_nested_element(lst, indices):\n",
        "    element = lst\n",
        "    for index in indices:\n",
        "        element = element[index]\n",
        "    return element\n",
        "\n",
        "# Example usage:\n",
        "lst = [[1, 2, 3], [4, 5, 6], [7, 8, 9]]\n",
        "indices = [1, 2]\n",
        "print(access_nested_element(lst, indices))  # Output: 6\n"
      ],
      "metadata": {
        "colab": {
          "base_uri": "https://localhost:8080/"
        },
        "id": "fZRHjJWNWChA",
        "outputId": "c59e5825-233b-439c-ed55-70d7c7d8eca0"
      },
      "execution_count": 11,
      "outputs": [
        {
          "output_type": "stream",
          "name": "stdout",
          "text": [
            "6\n"
          ]
        }
      ]
    },
    {
      "cell_type": "markdown",
      "source": [
        "3. Sum of All Elements in a Nested List:\n",
        "Write a Python function that calculates the sum of all the numbers in a nested list (regardless of depth)."
      ],
      "metadata": {
        "id": "-nNe1X1YWFQJ"
      }
    },
    {
      "cell_type": "code",
      "source": [
        "def sum_nested(lst):\n",
        "    total = 0\n",
        "    for item in lst:\n",
        "        if isinstance(item, list):\n",
        "            total += sum_nested(item)  # Recursively sum if the item is a list\n",
        "        else:\n",
        "            total += item\n",
        "    return total\n",
        "\n",
        "# Example usage:\n",
        "nested_list = [[1, 2], [3, [4, 5]], 6]\n",
        "print(sum_nested(nested_list))  # Output: 21\n"
      ],
      "metadata": {
        "colab": {
          "base_uri": "https://localhost:8080/"
        },
        "id": "3Egd4tzKWHpI",
        "outputId": "132f8f7d-b159-4a11-ad82-e7e299afc652"
      },
      "execution_count": 12,
      "outputs": [
        {
          "output_type": "stream",
          "name": "stdout",
          "text": [
            "21\n"
          ]
        }
      ]
    },
    {
      "cell_type": "markdown",
      "source": [
        "4. Remove Specific Element from a Nested List:\n",
        "Write a Python function that removes all occurrences of a specific element from a nested list."
      ],
      "metadata": {
        "id": "Jf7widxKWMGd"
      }
    },
    {
      "cell_type": "code",
      "source": [
        "def remove_element(lst, elem):\n",
        "    return [[x for x in sublist if x != elem] for sublist in lst]\n",
        "\n",
        "# Example usage\n",
        "lst = [[1, 2], [3, 2], [4, 5]]\n",
        "elem = 2\n",
        "result = remove_element(lst, elem)\n",
        "print(result)  # Output: [[1], [3], [4, 5]]\n"
      ],
      "metadata": {
        "colab": {
          "base_uri": "https://localhost:8080/"
        },
        "id": "VHmvYcyIWO9_",
        "outputId": "f2d7dc26-d8aa-4b25-f2d8-8019883fbb19"
      },
      "execution_count": 13,
      "outputs": [
        {
          "output_type": "stream",
          "name": "stdout",
          "text": [
            "[[1], [3], [4, 5]]\n"
          ]
        }
      ]
    },
    {
      "cell_type": "markdown",
      "source": [
        "5. Find the Maximum Element in a Nested List:\n",
        "Write a Python function that finds the maximum element in a nested list (regardless of depth)."
      ],
      "metadata": {
        "id": "5nsH80ilWoBG"
      }
    },
    {
      "cell_type": "code",
      "source": [
        "def find_max(lst):\n",
        "    max_val = float('-inf')  # Initialize with the smallest possible value\n",
        "\n",
        "    def helper(sublist):\n",
        "        nonlocal max_val\n",
        "        for item in sublist:\n",
        "            if isinstance(item, list):  # If item is a list, recursively call helper\n",
        "                helper(item)\n",
        "            else:\n",
        "                max_val = max(max_val, item)  # Update max_val if item is greater\n",
        "\n",
        "    helper(lst)\n",
        "    return max_val\n",
        "\n",
        "# Example usage\n",
        "nested_list = [[1, 2], [3, [4, 5]], 6]\n",
        "result = find_max(nested_list)\n",
        "print(result)  # Output: 6\n"
      ],
      "metadata": {
        "colab": {
          "base_uri": "https://localhost:8080/"
        },
        "id": "4qLflCxWWo9J",
        "outputId": "4aae19b4-8e7a-47ef-e865-40d977685ac6"
      },
      "execution_count": 14,
      "outputs": [
        {
          "output_type": "stream",
          "name": "stdout",
          "text": [
            "6\n"
          ]
        }
      ]
    },
    {
      "cell_type": "markdown",
      "source": [
        "6. Count Occurrences of an Element in a Nested List:\n",
        "Write a Python function that counts how many times a specific element appears in a nested list."
      ],
      "metadata": {
        "id": "lyzZzxfOWx5r"
      }
    },
    {
      "cell_type": "code",
      "source": [
        "def count_occurrences(lst, elem):\n",
        "    count = 0\n",
        "\n",
        "    def helper(sublist):\n",
        "        nonlocal count\n",
        "        for item in sublist:\n",
        "            if isinstance(item, list):  # If item is a list, recursively call helper\n",
        "                helper(item)\n",
        "            elif item == elem:\n",
        "                count += 1  # Increment count if item matches elem\n",
        "\n",
        "    helper(lst)\n",
        "    return count\n",
        "\n",
        "# Example usage\n",
        "nested_list = [[1, 2], [2, 3], [2, 4]]\n",
        "elem = 2\n",
        "result = count_occurrences(nested_list, elem)\n",
        "print(result)  # Output: 3\n"
      ],
      "metadata": {
        "colab": {
          "base_uri": "https://localhost:8080/"
        },
        "id": "mpfJoAN6W3mk",
        "outputId": "6face559-9975-4c82-da5f-5fa6536fad2a"
      },
      "execution_count": 15,
      "outputs": [
        {
          "output_type": "stream",
          "name": "stdout",
          "text": [
            "3\n"
          ]
        }
      ]
    },
    {
      "cell_type": "markdown",
      "source": [
        "7. Flatten a List of Lists of Lists:\n",
        "Write a Python function that flattens a list of lists of lists into a single list, regardless of the depth."
      ],
      "metadata": {
        "id": "NyEX3dcvW8ed"
      }
    },
    {
      "cell_type": "code",
      "source": [
        "def deep_flatten(lst):\n",
        "    flat_list = []\n",
        "\n",
        "    def helper(sublist):\n",
        "        for item in sublist:\n",
        "            if isinstance(item, list):  # If item is a list, recursively call helper\n",
        "                helper(item)\n",
        "            else:\n",
        "                flat_list.append(item)  # Append non-list items to the result\n",
        "\n",
        "    helper(lst)\n",
        "    return flat_list\n",
        "\n",
        "# Example usage\n",
        "nested_list = [[[1, 2], [3, 4]], [[5, 6], [7, 8]]]\n",
        "result = deep_flatten(nested_list)\n",
        "print(result)  # Output: [1, 2, 3, 4, 5, 6, 7, 8]\n"
      ],
      "metadata": {
        "colab": {
          "base_uri": "https://localhost:8080/"
        },
        "id": "0TeV9wS7XB4l",
        "outputId": "ad6b6eb4-575c-4e04-b8a1-c1d0cf2e4c90"
      },
      "execution_count": 16,
      "outputs": [
        {
          "output_type": "stream",
          "name": "stdout",
          "text": [
            "[1, 2, 3, 4, 5, 6, 7, 8]\n"
          ]
        }
      ]
    },
    {
      "cell_type": "markdown",
      "source": [
        "8. Nested List Average:\n",
        "Write a Python function that calculates the average of all elements in a nested list."
      ],
      "metadata": {
        "id": "uSUS7Ky4XFzj"
      }
    },
    {
      "cell_type": "code",
      "source": [
        "def average_nested(lst):\n",
        "    total_sum = 0\n",
        "    count = 0\n",
        "\n",
        "    def helper(sublist):\n",
        "        nonlocal total_sum, count\n",
        "        for item in sublist:\n",
        "            if isinstance(item, list):  # If item is a list, recursively call helper\n",
        "                helper(item)\n",
        "            else:\n",
        "                total_sum += item  # Add item to total sum\n",
        "                count += 1  # Increment count of numbers\n",
        "\n",
        "    helper(lst)\n",
        "\n",
        "    return total_sum / count if count > 0 else 0  # Avoid division by zero\n",
        "\n",
        "# Example usage\n",
        "nested_list = [[1, 2], [3, 4], [5, 6]]\n",
        "result = average_nested(nested_list)\n",
        "print(result)  # Output: 3.5\n"
      ],
      "metadata": {
        "colab": {
          "base_uri": "https://localhost:8080/"
        },
        "id": "dRfoHsk3XEgn",
        "outputId": "ea3e927b-0b7f-43f4-90c4-8c2ea7a42b13"
      },
      "execution_count": 17,
      "outputs": [
        {
          "output_type": "stream",
          "name": "stdout",
          "text": [
            "3.5\n"
          ]
        }
      ]
    },
    {
      "cell_type": "markdown",
      "source": [
        "10 To - Do - NumPy"
      ],
      "metadata": {
        "id": "zS0Jic1TXQJg"
      }
    },
    {
      "cell_type": "markdown",
      "source": [
        "10.1 Basic Vector and Matrix Operation with Numpy.\n",
        "Problem - 1: Array Creation:\n",
        "Complete the following Tasks:\n",
        "1. Initialize an empty array with size 2X2.\n",
        "2. Initialize an all one array with size 4X2.\n",
        "3. Return a new array of given shape and type, filled with fill value.{Hint: np.full}\n",
        "4. Return a new array of zeros with same shape and type as a given array.{Hint: np.zeros like}\n",
        "5. Return a new array of ones with same shape and type as a given array.{Hint: np.ones like}\n",
        "6. For an existing list new_list = [1,2,3,4] convert to an numpy array.{Hint: np.array()}"
      ],
      "metadata": {
        "id": "tVn_SpN1XeGv"
      }
    },
    {
      "cell_type": "code",
      "source": [
        "import numpy as np\n",
        "\n",
        "# 1. Initialize an empty array with size 2x2\n",
        "empty_array = np.empty((2, 2))\n",
        "print(\"Empty Array (2x2):\\n\", empty_array)\n",
        "\n",
        "# 2. Initialize an all-ones array with size 4x2\n",
        "ones_array = np.ones((4, 2))\n",
        "print(\"\\nAll Ones Array (4x2):\\n\", ones_array)\n",
        "\n",
        "# 3. Return a new array of given shape and type, filled with a fill value\n",
        "fill_value_array = np.full((3, 3), 7)  # Example: 3x3 filled with 7\n",
        "print(\"\\nArray Filled with 7 (3x3):\\n\", fill_value_array)\n",
        "\n",
        "# 4. Return a new array of zeros with same shape and type as a given array\n",
        "example_array = np.array([[1, 2, 3], [4, 5, 6]])  # Example array\n",
        "zeros_like_array = np.zeros_like(example_array)\n",
        "print(\"\\nZeros Array with Same Shape as Example Array:\\n\", zeros_like_array)\n",
        "\n",
        "# 5. Return a new array of ones with same shape and type as a given array\n",
        "ones_like_array = np.ones_like(example_array)\n",
        "print(\"\\nOnes Array with Same Shape as Example Array:\\n\", ones_like_array)\n",
        "\n",
        "# 6. Convert an existing list to a NumPy array\n",
        "new_list = [1, 2, 3, 4]\n",
        "numpy_array = np.array(new_list)\n",
        "print(\"\\nConverted NumPy Array from List:\\n\", numpy_array)\n"
      ],
      "metadata": {
        "colab": {
          "base_uri": "https://localhost:8080/"
        },
        "id": "nCYleSuFXhq4",
        "outputId": "8422094a-51a4-4c72-dbed-e26172504b60"
      },
      "execution_count": 18,
      "outputs": [
        {
          "output_type": "stream",
          "name": "stdout",
          "text": [
            "Empty Array (2x2):\n",
            " [[2.3899923e-316 0.0000000e+000]\n",
            " [0.0000000e+000 0.0000000e+000]]\n",
            "\n",
            "All Ones Array (4x2):\n",
            " [[1. 1.]\n",
            " [1. 1.]\n",
            " [1. 1.]\n",
            " [1. 1.]]\n",
            "\n",
            "Array Filled with 7 (3x3):\n",
            " [[7 7 7]\n",
            " [7 7 7]\n",
            " [7 7 7]]\n",
            "\n",
            "Zeros Array with Same Shape as Example Array:\n",
            " [[0 0 0]\n",
            " [0 0 0]]\n",
            "\n",
            "Ones Array with Same Shape as Example Array:\n",
            " [[1 1 1]\n",
            " [1 1 1]]\n",
            "\n",
            "Converted NumPy Array from List:\n",
            " [1 2 3 4]\n"
          ]
        }
      ]
    },
    {
      "cell_type": "markdown",
      "source": [
        "Problem - 2: Array Manipulation: Numerical Ranges and Array indexing:\n",
        "Complete the following tasks:\n",
        "1. Create an array with values ranging from 10 to 49. {Hint:np.arrange()}.\n",
        "2. Create a 3X3 matrix with values ranging from 0 to 8.\n",
        "{Hint:look for np.reshape()}\n",
        "3. Create a 3X3 identity matrix.{Hint:np.eye()}\n",
        "4. Create a random array of size 30 and find the mean of the array.\n",
        "{Hint:check for np.random.random() and array.mean() function}\n",
        "5. Create a 10X10 array with random values and find the minimum and maximum values.\n",
        "6. Create a zero array of size 10 and replace 5th element with 1.\n",
        "7. Reverse an array arr = [1,2,0,0,4,0].\n",
        "8. Create a 2d array with 1 on border and 0 inside.\n",
        "9. Create a 8X8 matrix and fill it with a checkerboard pattern."
      ],
      "metadata": {
        "id": "558_oRNoXuT4"
      }
    },
    {
      "cell_type": "code",
      "source": [
        "import numpy as np\n",
        "\n",
        "# 1. Create an array with values ranging from 10 to 49\n",
        "array_10_to_49 = np.arange(10, 50)\n",
        "print(\"Array from 10 to 49:\\n\", array_10_to_49)\n",
        "\n",
        "# 2. Create a 3x3 matrix with values ranging from 0 to 8\n",
        "matrix_3x3 = np.arange(9).reshape(3, 3)\n",
        "print(\"\\n3x3 Matrix with values from 0 to 8:\\n\", matrix_3x3)\n",
        "\n",
        "# 3. Create a 3x3 identity matrix\n",
        "identity_matrix = np.eye(3)\n",
        "print(\"\\n3x3 Identity Matrix:\\n\", identity_matrix)\n",
        "\n",
        "# 4. Create a random array of size 30 and find the mean\n",
        "random_array = np.random.random(30)\n",
        "mean_value = random_array.mean()\n",
        "print(\"\\nMean of Random Array (size 30):\", mean_value)\n",
        "\n",
        "# 5. Create a 10x10 array with random values and find min and max values\n",
        "random_matrix_10x10 = np.random.random((10, 10))\n",
        "min_value = random_matrix_10x10.min()\n",
        "max_value = random_matrix_10x10.max()\n",
        "print(\"\\nMinimum Value in 10x10 Random Matrix:\", min_value)\n",
        "print(\"Maximum Value in 10x10 Random Matrix:\", max_value)\n",
        "\n",
        "# 6. Create a zero array of size 10 and replace the 5th element with 1\n",
        "zero_array = np.zeros(10)\n",
        "zero_array[4] = 1  # Index 4 is the 5th element\n",
        "print(\"\\nZero Array with 5th Element as 1:\\n\", zero_array)\n",
        "\n",
        "# 7. Reverse an array arr = [1,2,0,0,4,0]\n",
        "arr = np.array([1, 2, 0, 0, 4, 0])\n",
        "reversed_arr = arr[::-1]\n",
        "print(\"\\nReversed Array:\\n\", reversed_arr)\n",
        "\n",
        "# 8. Create a 2D array with 1 on the border and 0 inside\n",
        "border_array = np.ones((5, 5))  # Creating a 5x5 matrix of ones\n",
        "border_array[1:-1, 1:-1] = 0  # Filling the inside with zeros\n",
        "print(\"\\n2D Array with Border 1 and Inside 0:\\n\", border_array)\n",
        "\n",
        "# 9. Create an 8x8 matrix and fill it with a checkerboard pattern\n",
        "checkerboard = np.zeros((8, 8), dtype=int)\n",
        "checkerboard[1::2, ::2] = 1  # Fill alternating rows and columns\n",
        "checkerboard[::2, 1::2] = 1\n",
        "print(\"\\n8x8 Checkerboard Pattern:\\n\", checkerboard)\n"
      ],
      "metadata": {
        "colab": {
          "base_uri": "https://localhost:8080/"
        },
        "id": "196tJFrkXoKr",
        "outputId": "6a9f40af-727b-4675-be9c-9549f4d67757"
      },
      "execution_count": 19,
      "outputs": [
        {
          "output_type": "stream",
          "name": "stdout",
          "text": [
            "Array from 10 to 49:\n",
            " [10 11 12 13 14 15 16 17 18 19 20 21 22 23 24 25 26 27 28 29 30 31 32 33\n",
            " 34 35 36 37 38 39 40 41 42 43 44 45 46 47 48 49]\n",
            "\n",
            "3x3 Matrix with values from 0 to 8:\n",
            " [[0 1 2]\n",
            " [3 4 5]\n",
            " [6 7 8]]\n",
            "\n",
            "3x3 Identity Matrix:\n",
            " [[1. 0. 0.]\n",
            " [0. 1. 0.]\n",
            " [0. 0. 1.]]\n",
            "\n",
            "Mean of Random Array (size 30): 0.3869982323393647\n",
            "\n",
            "Minimum Value in 10x10 Random Matrix: 0.0016055685753549875\n",
            "Maximum Value in 10x10 Random Matrix: 0.9906095486213035\n",
            "\n",
            "Zero Array with 5th Element as 1:\n",
            " [0. 0. 0. 0. 1. 0. 0. 0. 0. 0.]\n",
            "\n",
            "Reversed Array:\n",
            " [0 4 0 0 2 1]\n",
            "\n",
            "2D Array with Border 1 and Inside 0:\n",
            " [[1. 1. 1. 1. 1.]\n",
            " [1. 0. 0. 0. 1.]\n",
            " [1. 0. 0. 0. 1.]\n",
            " [1. 0. 0. 0. 1.]\n",
            " [1. 1. 1. 1. 1.]]\n",
            "\n",
            "8x8 Checkerboard Pattern:\n",
            " [[0 1 0 1 0 1 0 1]\n",
            " [1 0 1 0 1 0 1 0]\n",
            " [0 1 0 1 0 1 0 1]\n",
            " [1 0 1 0 1 0 1 0]\n",
            " [0 1 0 1 0 1 0 1]\n",
            " [1 0 1 0 1 0 1 0]\n",
            " [0 1 0 1 0 1 0 1]\n",
            " [1 0 1 0 1 0 1 0]]\n"
          ]
        }
      ]
    },
    {
      "cell_type": "markdown",
      "source": [
        "Problem - 3: Array Operations:\n",
        "For the following arrays:\n",
        "x = np.array([[1,2],[3,5]]) and y = np.array([[5,6],[7,8]]);\n",
        "v = np.array([9,10]) and w = np.array([11,12]);\n",
        "Complete all the task using numpy:\n",
        "1. Add the two array.\n",
        "2. Subtract the two array.\n",
        "3. Multiply the array with any integers of your choice.\n",
        "4. Find the square of each element of the array.\n",
        "5. Find the dot product between: v(and)w ; x(and)v ; x(and)y.\n",
        "6. Concatenate x(and)y along row and Concatenate v(and)w along column.\n",
        "{Hint:try np.concatenate() or np.vstack() functions.\n",
        "7. Concatenate x(and)v; if you get an error, observe and explain why did you get the error?"
      ],
      "metadata": {
        "id": "dNEHjvAmX82I"
      }
    },
    {
      "cell_type": "code",
      "source": [
        "import numpy as np\n",
        "\n",
        "# Given arrays\n",
        "x = np.array([[1, 2], [3, 5]])\n",
        "y = np.array([[5, 6], [7, 8]])\n",
        "v = np.array([9, 10])\n",
        "w = np.array([11, 12])\n",
        "\n",
        "# 1. Add the two arrays\n",
        "add_xy = x + y\n",
        "print(\"Addition of x and y:\\n\", add_xy)\n",
        "\n",
        "# 2. Subtract the two arrays\n",
        "sub_xy = x - y\n",
        "print(\"\\nSubtraction of x and y:\\n\", sub_xy)\n",
        "\n",
        "# 3. Multiply the array with an integer (e.g., multiply x by 3)\n",
        "mult_x = x * 3\n",
        "print(\"\\nMultiplication of x by 3:\\n\", mult_x)\n",
        "\n",
        "# 4. Find the square of each element of the array\n",
        "square_x = np.square(x)\n",
        "print(\"\\nSquare of each element in x:\\n\", square_x)\n",
        "\n",
        "# 5. Find the dot product between:\n",
        "dot_vw = np.dot(v, w)  # Dot product of v and w\n",
        "dot_xv = np.dot(x, v)  # Dot product of x and v\n",
        "dot_xy = np.dot(x, y)  # Dot product of x and y\n",
        "\n",
        "print(\"\\nDot product of v and w:\", dot_vw)\n",
        "print(\"Dot product of x and v:\\n\", dot_xv)\n",
        "print(\"Dot product of x and y:\\n\", dot_xy)\n",
        "\n",
        "# 6. Concatenate x and y along rows\n",
        "concat_xy = np.concatenate((x, y), axis=0)  # Along row\n",
        "print(\"\\nConcatenation of x and y along rows:\\n\", concat_xy)\n",
        "\n",
        "# Concatenate v and w along columns\n",
        "concat_vw = np.vstack((v, w))  # Stacking as a column\n",
        "print(\"\\nConcatenation of v and w along columns:\\n\", concat_vw)\n",
        "\n",
        "# 7. Try to concatenate x and v\n",
        "try:\n",
        "    concat_xv = np.concatenate((x, v), axis=0)\n",
        "    print(\"\\nConcatenation of x and v:\\n\", concat_xv)\n",
        "except ValueError as e:\n",
        "    print(\"\\nError while concatenating x and v:\", e)\n"
      ],
      "metadata": {
        "colab": {
          "base_uri": "https://localhost:8080/"
        },
        "id": "yhyl0bbpYCHW",
        "outputId": "60871fe8-bdfb-4470-d483-92d0dbc2eaf5"
      },
      "execution_count": 20,
      "outputs": [
        {
          "output_type": "stream",
          "name": "stdout",
          "text": [
            "Addition of x and y:\n",
            " [[ 6  8]\n",
            " [10 13]]\n",
            "\n",
            "Subtraction of x and y:\n",
            " [[-4 -4]\n",
            " [-4 -3]]\n",
            "\n",
            "Multiplication of x by 3:\n",
            " [[ 3  6]\n",
            " [ 9 15]]\n",
            "\n",
            "Square of each element in x:\n",
            " [[ 1  4]\n",
            " [ 9 25]]\n",
            "\n",
            "Dot product of v and w: 219\n",
            "Dot product of x and v:\n",
            " [29 77]\n",
            "Dot product of x and y:\n",
            " [[19 22]\n",
            " [50 58]]\n",
            "\n",
            "Concatenation of x and y along rows:\n",
            " [[1 2]\n",
            " [3 5]\n",
            " [5 6]\n",
            " [7 8]]\n",
            "\n",
            "Concatenation of v and w along columns:\n",
            " [[ 9 10]\n",
            " [11 12]]\n",
            "\n",
            "Error while concatenating x and v: all the input arrays must have same number of dimensions, but the array at index 0 has 2 dimension(s) and the array at index 1 has 1 dimension(s)\n"
          ]
        }
      ]
    },
    {
      "cell_type": "markdown",
      "source": [
        "Problem - 4: Matrix Operations:\n",
        "• For the following arrays:\n",
        "A = np.array([[3,4],[7,8]]) and B = np.array([[5,3],[2,1]]);\n",
        "Prove following with Numpy:\n",
        "1. Prove A.A−1 = I.\n",
        "2. Prove AB ̸= BA.\n",
        "3. Prove (AB)\n",
        "\n",
        "T = BTAT\n",
        ".\n",
        "\n",
        "• Solve the following system of Linear equation using Inverse Methods.\n",
        "\n",
        "2x − 3y + z = −1\n",
        "x − y + 2z = −3\n",
        "3x + y − z = 9\n",
        "\n",
        "{Hint: First use Numpy array to represent the equation in Matrix form. Then Solve for: AX = B}\n",
        "\n",
        "• Now: solve the above equation using np.linalg.inv function.{Explore more about ”linalg” func-\n",
        "tion of Numpy}\n"
      ],
      "metadata": {
        "id": "nXxagTyGYJGZ"
      }
    },
    {
      "cell_type": "code",
      "source": [
        "import numpy as np\n",
        "\n",
        "# Given matrices\n",
        "A = np.array([[3, 4], [7, 8]])\n",
        "B = np.array([[5, 3], [2, 1]])\n",
        "\n",
        "# Prove A * A^-1 = I\n",
        "A_inv = np.linalg.inv(A)\n",
        "identity_matrix = np.dot(A, A_inv)\n",
        "print(\"A * A^-1:\")\n",
        "print(identity_matrix)\n",
        "\n",
        "# Prove AB ≠ BA\n",
        "AB = np.dot(A, B)\n",
        "BA = np.dot(B, A)\n",
        "print(\"AB:\")\n",
        "print(AB)\n",
        "print(\"BA:\")\n",
        "print(BA)\n",
        "print(\"Is AB ≠ BA?\", not np.array_equal(AB, BA))\n",
        "\n",
        "# Prove (AB)^T = B^T * A^T\n",
        "AB_T = np.transpose(AB)\n",
        "BT_AT = np.dot(np.transpose(B), np.transpose(A))\n",
        "print(\"(AB)^T:\")\n",
        "print(AB_T)\n",
        "print(\"B^T * A^T:\")\n",
        "print(BT_AT)\n",
        "print(\"Does (AB)^T = B^T * A^T?\", np.array_equal(AB_T, BT_AT))\n",
        "\n",
        "# Solve the system of linear equations using Inverse Method\n",
        "A_eq = np.array([[2, -3, 1], [1, -1, 2], [3, 1, -1]])\n",
        "B_eq = np.array([-1, -3, 9])\n",
        "\n",
        "# Solve for X using A^-1 * B\n",
        "A_inv_eq = np.linalg.inv(A_eq)\n",
        "X = np.dot(A_inv_eq, B_eq)\n",
        "print(\"Solution for the system of equations:\")\n",
        "print(X)\n"
      ],
      "metadata": {
        "colab": {
          "base_uri": "https://localhost:8080/"
        },
        "id": "APvzpEd4YVhf",
        "outputId": "bb31601e-0a6e-47df-c7da-f667f9627574"
      },
      "execution_count": 21,
      "outputs": [
        {
          "output_type": "stream",
          "name": "stdout",
          "text": [
            "A * A^-1:\n",
            "[[1.00000000e+00 0.00000000e+00]\n",
            " [1.77635684e-15 1.00000000e+00]]\n",
            "AB:\n",
            "[[23 13]\n",
            " [51 29]]\n",
            "BA:\n",
            "[[36 44]\n",
            " [13 16]]\n",
            "Is AB ≠ BA? True\n",
            "(AB)^T:\n",
            "[[23 51]\n",
            " [13 29]]\n",
            "B^T * A^T:\n",
            "[[23 51]\n",
            " [13 29]]\n",
            "Does (AB)^T = B^T * A^T? True\n",
            "Solution for the system of equations:\n",
            "[ 2.  1. -2.]\n"
          ]
        }
      ]
    },
    {
      "cell_type": "markdown",
      "source": [
        "# **10.2 Experiment: How Fast is Numpy?**"
      ],
      "metadata": {
        "id": "sUf-XJA1Y3QX"
      }
    },
    {
      "cell_type": "markdown",
      "source": [
        "**1. Element-wise Addition:**\n",
        "\n",
        "• Using Python Lists, perform element-wise addition of two lists of size 1, 000, 000. Measure and Print the time taken for this operation.\n",
        "\n",
        "• Using Numpy Arrays, Repeat the calculation and measure and print the time taken for this operation."
      ],
      "metadata": {
        "id": "jqzG2N9wY6qJ"
      }
    },
    {
      "cell_type": "code",
      "source": [
        "import time\n",
        "size = 1_000_000\n",
        "list1 = list(range(size))\n",
        "list2 = list(range(size))\n",
        "\n",
        "start_time = time.time()\n",
        "list_addition = [list1[i] + list2[i] for i in range(size)]\n",
        "python_add_time = time.time() - start_time\n",
        "\n",
        "array1 = np.arange(size)\n",
        "array2 = np.arange(size)\n",
        "\n",
        "start_time = time.time()\n",
        "array_addition = array1 + array2\n",
        "numpy_add_time = time.time() - start_time"
      ],
      "metadata": {
        "id": "YswSmyXgY99_"
      },
      "execution_count": 22,
      "outputs": []
    },
    {
      "cell_type": "markdown",
      "source": [
        "**2. Element-wise Multiplication**\n",
        "\n",
        "• Using Python Lists, perform element-wise multiplication of two lists of size 1, 000, 000. Measure and Print the time taken for this operation.\n",
        "\n",
        "• Using Numpy Arrays, Repeat the calculation and measure and print the time taken for this operation."
      ],
      "metadata": {
        "id": "5qKaKdgXZBwK"
      }
    },
    {
      "cell_type": "code",
      "source": [
        "start_time = time.time()\n",
        "list_multiplication = [list1[i] * list2[i] for i in range(size)]\n",
        "python_mul_time = time.time() - start_time\n",
        "\n",
        "start_time = time.time()\n",
        "array_multiplication = array1 * array2\n",
        "numpy_mul_time = time.time() - start_time"
      ],
      "metadata": {
        "id": "xXu2ZOAuZFST"
      },
      "execution_count": 24,
      "outputs": []
    },
    {
      "cell_type": "markdown",
      "source": [
        "**3. Dot Product**\n",
        "\n",
        "• Using Python Lists, compute the dot product of two lists of size 1, 000, 000. Measure and Print the time taken for this operation.\n",
        "\n",
        "• Using Numpy Arrays, Repeat the calculation and measure and print the time taken for this operation."
      ],
      "metadata": {
        "id": "ACDYdlioZIid"
      }
    },
    {
      "cell_type": "code",
      "source": [
        "start_time = time.time()\n",
        "dot_product_list = sum(list1[i] * list2[i] for i in range(size))\n",
        "python_dot_time = time.time() - start_time\n",
        "\n",
        "start_time = time.time()\n",
        "dot_product_numpy = np.dot(array1, array2)\n",
        "numpy_dot_time = time.time() - start_time"
      ],
      "metadata": {
        "id": "1zqy6D3EZLm2"
      },
      "execution_count": 23,
      "outputs": []
    },
    {
      "cell_type": "markdown",
      "source": [
        "**4. Matrix Multiplication**\n",
        "\n",
        "• Using Python lists, perform matrix multiplication of two matrices of size 1000x1000. Mea-\n",
        "sure and print the time taken for this operation.\n",
        "\n",
        "• Using NumPy arrays, perform matrix multiplication of two matrices of size 1000x1000.\n",
        "Measure and print the time taken for this operation."
      ],
      "metadata": {
        "id": "VyNi-zeXZOXG"
      }
    },
    {
      "cell_type": "code",
      "source": [
        "size_matrix = 1000\n",
        "matrix1_np = np.arange(size_matrix**2).reshape(size_matrix, size_matrix)\n",
        "matrix2_np = np.arange(size_matrix**2).reshape(size_matrix, size_matrix)\n",
        "\n",
        "start_time = time.time()\n",
        "matrix_multiplication_np = np.dot(matrix1_np, matrix2_np)\n",
        "numpy_matrix_time = time.time() - start_time"
      ],
      "metadata": {
        "id": "-3c-894jZRsE"
      },
      "execution_count": 25,
      "outputs": []
    },
    {
      "cell_type": "code",
      "source": [
        "print(f\"Python Addition Time: {python_add_time:.5f} seconds\")\n",
        "print(f\"NumPy Addition Time: {numpy_add_time:.5f} seconds\")\n",
        "print(f\"Python Multiplication Time: {python_mul_time:.5f} seconds\")\n",
        "print(f\"NumPy Multiplication Time: {numpy_mul_time:.5f} seconds\")\n",
        "print(f\"Python Dot Product Time: {python_dot_time:.5f} seconds\")\n",
        "print(f\"NumPy Dot Product Time: {numpy_dot_time:.5f} seconds\")\n",
        "print(f\"NumPy Matrix Multiplication Time: {numpy_matrix_time:.5f} seconds\")"
      ],
      "metadata": {
        "colab": {
          "base_uri": "https://localhost:8080/"
        },
        "id": "2Gnsymo7ZXQc",
        "outputId": "c13b4a65-2318-4d11-ed0c-f7ca9100599a"
      },
      "execution_count": 26,
      "outputs": [
        {
          "output_type": "stream",
          "name": "stdout",
          "text": [
            "Python Addition Time: 0.08566 seconds\n",
            "NumPy Addition Time: 0.00532 seconds\n",
            "Python Multiplication Time: 0.14679 seconds\n",
            "NumPy Multiplication Time: 0.00564 seconds\n",
            "Python Dot Product Time: 0.09373 seconds\n",
            "NumPy Dot Product Time: 0.00178 seconds\n",
            "NumPy Matrix Multiplication Time: 1.62386 seconds\n"
          ]
        }
      ]
    }
  ]
}